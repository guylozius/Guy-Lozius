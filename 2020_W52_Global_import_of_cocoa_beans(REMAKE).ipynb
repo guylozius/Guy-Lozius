{
  "nbformat": 4,
  "nbformat_minor": 0,
  "metadata": {
    "colab": {
      "provenance": [],
      "authorship_tag": "ABX9TyMW0prSNM+PB/AlnrwZ3n4t",
      "include_colab_link": true
    },
    "kernelspec": {
      "name": "python3",
      "display_name": "Python 3"
    },
    "language_info": {
      "name": "python"
    }
  },
  "cells": [
    {
      "cell_type": "markdown",
      "metadata": {
        "id": "view-in-github",
        "colab_type": "text"
      },
      "source": [
        "<a href=\"https://colab.research.google.com/github/guylozius/Guy-Lozius/blob/master/2020_W52_Global_import_of_cocoa_beans(REMAKE).ipynb\" target=\"_parent\"><img src=\"https://colab.research.google.com/assets/colab-badge.svg\" alt=\"Open In Colab\"/></a>"
      ]
    },
    {
      "cell_type": "markdown",
      "source": [
        "# Data Visualization Exercise (Practice)"
      ],
      "metadata": {
        "id": "CbIZlQUxoeDd"
      }
    },
    {
      "cell_type": "markdown",
      "metadata": {
        "id": "M8LrgT_Kp21P"
      },
      "source": [
        "## Instructions"
      ]
    },
    {
      "cell_type": "markdown",
      "metadata": {
        "id": "tdos9q4Epxya"
      },
      "source": [
        "[Makeover Monday](https://www.makeovermonday.co.uk/) offers a weekly challenge to re-create or improve data visualizations. Your task is to choose one of the data visualizations to re-create or improve!\n",
        "\n",
        "To do this:\n",
        "\n",
        "1.  Choose a data set from the [Data Sets list](https://www.makeovermonday.co.uk/data/data-sets-2020/). You can choose a recent data set or one from a previous year - as long as it interests you!\n",
        "2.  Download the data that you chose.\n",
        "3.  Use Python to create a visually appealing, informative visualization using the data you selected.\n",
        "\n",
        "You also need to put your work for this assignment on GitHub, so everyone can see the awesome visualization you created!\n",
        "\n",
        "To do this:\n",
        "\n",
        "1.  Create a new [GitHub](https://github.com/) repository with an informative name for your visualization or data. (Note: [here](https://www.wikihow.com/Create-a-Repository-on-GitHub) are instructions on how to do this if you are unsure - make sure to check the box marked \"Initialize this repository with a README.\")\n",
        "2.  Add your code to the GitHub repo you created. You can do this in Google Colab by selecting File > \"Save a Copy In GitHub\"\n",
        "3.  Edit the README to create an informative overview of the exercise that explains the purpose of the task/visualization, the data, and what the visualization you made shows/tells you. You may even want to include a static image of your final visualization in the README as well! (Note: README's are markdown files. [Here](https://www.markdownguide.org/cheat-sheet) is a cheatsheet of markdown syntax.) Try to make this as informative and professional as possible, as this is the first thing people will see when they come to your GitHub repo!\n",
        "\n",
        "Once you are done, submit a link to your GitHub repo to turn in this assignment."
      ]
    },
    {
      "cell_type": "markdown",
      "source": [
        "## Task 1"
      ],
      "metadata": {
        "id": "mRtyDL2MpFaD"
      }
    },
    {
      "cell_type": "code",
      "source": [
        "import pandas as pd\n",
        "import numpy as np\n",
        "import matplotlib.pyplot as plt\n",
        "import seaborn as sns"
      ],
      "metadata": {
        "id": "r7yydTzLrNB5"
      },
      "execution_count": 1,
      "outputs": []
    },
    {
      "cell_type": "markdown",
      "source": [
        "- The dataset selected:https://data.world/makeovermonday/2020w52\n",
        "-Original Image:<img src=\"https://media.data.world/svktJ3mRXW9jEdmci47y_Screenshot%202020-12-26%20at%2017.32.12.png\">"
      ],
      "metadata": {
        "id": "74sraeb7pIi7"
      }
    },
    {
      "cell_type": "code",
      "source": [
        "#Getting the dataset\n",
        "df = pd.read_excel('https://query.data.world/s/3as6snbbqbr3eorp7ezq5de6x3wyug')\n",
        "df\n"
      ],
      "metadata": {
        "colab": {
          "base_uri": "https://localhost:8080/",
          "height": 520
        },
        "id": "ImGjXvIorWha",
        "outputId": "0c5feeeb-7df2-42e7-f001-2faf2edd1115"
      },
      "execution_count": 2,
      "outputs": [
        {
          "output_type": "execute_result",
          "data": {
            "text/plain": [
              "            Region    Year  Import in tonnes\n",
              "0   Asia & Oceania  2015.0          565000.0\n",
              "1   Asia & Oceania  2016.0          592000.0\n",
              "2   Asia & Oceania  2017.0          866000.0\n",
              "3   Asia & Oceania  2018.0          927000.0\n",
              "4   Asia & Oceania  2019.0          924000.0\n",
              "5           Europe  2015.0         1997000.0\n",
              "6           Europe  2016.0         2219000.0\n",
              "7           Europe  2017.0         2444000.0\n",
              "8           Europe  2018.0         2554000.0\n",
              "9           Europe  2019.0         2500000.0\n",
              "10        Americas  2015.0          592000.0\n",
              "11        Americas  2016.0          586000.0\n",
              "12        Americas  2017.0          651000.0\n",
              "13        Americas  2018.0          621000.0\n",
              "14        Americas  2019.0          549000.0"
            ],
            "text/html": [
              "\n",
              "  <div id=\"df-306f3c23-8f32-42cd-81ae-3b268bc99d3e\">\n",
              "    <div class=\"colab-df-container\">\n",
              "      <div>\n",
              "<style scoped>\n",
              "    .dataframe tbody tr th:only-of-type {\n",
              "        vertical-align: middle;\n",
              "    }\n",
              "\n",
              "    .dataframe tbody tr th {\n",
              "        vertical-align: top;\n",
              "    }\n",
              "\n",
              "    .dataframe thead th {\n",
              "        text-align: right;\n",
              "    }\n",
              "</style>\n",
              "<table border=\"1\" class=\"dataframe\">\n",
              "  <thead>\n",
              "    <tr style=\"text-align: right;\">\n",
              "      <th></th>\n",
              "      <th>Region</th>\n",
              "      <th>Year</th>\n",
              "      <th>Import in tonnes</th>\n",
              "    </tr>\n",
              "  </thead>\n",
              "  <tbody>\n",
              "    <tr>\n",
              "      <th>0</th>\n",
              "      <td>Asia &amp; Oceania</td>\n",
              "      <td>2015.0</td>\n",
              "      <td>565000.0</td>\n",
              "    </tr>\n",
              "    <tr>\n",
              "      <th>1</th>\n",
              "      <td>Asia &amp; Oceania</td>\n",
              "      <td>2016.0</td>\n",
              "      <td>592000.0</td>\n",
              "    </tr>\n",
              "    <tr>\n",
              "      <th>2</th>\n",
              "      <td>Asia &amp; Oceania</td>\n",
              "      <td>2017.0</td>\n",
              "      <td>866000.0</td>\n",
              "    </tr>\n",
              "    <tr>\n",
              "      <th>3</th>\n",
              "      <td>Asia &amp; Oceania</td>\n",
              "      <td>2018.0</td>\n",
              "      <td>927000.0</td>\n",
              "    </tr>\n",
              "    <tr>\n",
              "      <th>4</th>\n",
              "      <td>Asia &amp; Oceania</td>\n",
              "      <td>2019.0</td>\n",
              "      <td>924000.0</td>\n",
              "    </tr>\n",
              "    <tr>\n",
              "      <th>5</th>\n",
              "      <td>Europe</td>\n",
              "      <td>2015.0</td>\n",
              "      <td>1997000.0</td>\n",
              "    </tr>\n",
              "    <tr>\n",
              "      <th>6</th>\n",
              "      <td>Europe</td>\n",
              "      <td>2016.0</td>\n",
              "      <td>2219000.0</td>\n",
              "    </tr>\n",
              "    <tr>\n",
              "      <th>7</th>\n",
              "      <td>Europe</td>\n",
              "      <td>2017.0</td>\n",
              "      <td>2444000.0</td>\n",
              "    </tr>\n",
              "    <tr>\n",
              "      <th>8</th>\n",
              "      <td>Europe</td>\n",
              "      <td>2018.0</td>\n",
              "      <td>2554000.0</td>\n",
              "    </tr>\n",
              "    <tr>\n",
              "      <th>9</th>\n",
              "      <td>Europe</td>\n",
              "      <td>2019.0</td>\n",
              "      <td>2500000.0</td>\n",
              "    </tr>\n",
              "    <tr>\n",
              "      <th>10</th>\n",
              "      <td>Americas</td>\n",
              "      <td>2015.0</td>\n",
              "      <td>592000.0</td>\n",
              "    </tr>\n",
              "    <tr>\n",
              "      <th>11</th>\n",
              "      <td>Americas</td>\n",
              "      <td>2016.0</td>\n",
              "      <td>586000.0</td>\n",
              "    </tr>\n",
              "    <tr>\n",
              "      <th>12</th>\n",
              "      <td>Americas</td>\n",
              "      <td>2017.0</td>\n",
              "      <td>651000.0</td>\n",
              "    </tr>\n",
              "    <tr>\n",
              "      <th>13</th>\n",
              "      <td>Americas</td>\n",
              "      <td>2018.0</td>\n",
              "      <td>621000.0</td>\n",
              "    </tr>\n",
              "    <tr>\n",
              "      <th>14</th>\n",
              "      <td>Americas</td>\n",
              "      <td>2019.0</td>\n",
              "      <td>549000.0</td>\n",
              "    </tr>\n",
              "  </tbody>\n",
              "</table>\n",
              "</div>\n",
              "      <button class=\"colab-df-convert\" onclick=\"convertToInteractive('df-306f3c23-8f32-42cd-81ae-3b268bc99d3e')\"\n",
              "              title=\"Convert this dataframe to an interactive table.\"\n",
              "              style=\"display:none;\">\n",
              "        \n",
              "  <svg xmlns=\"http://www.w3.org/2000/svg\" height=\"24px\"viewBox=\"0 0 24 24\"\n",
              "       width=\"24px\">\n",
              "    <path d=\"M0 0h24v24H0V0z\" fill=\"none\"/>\n",
              "    <path d=\"M18.56 5.44l.94 2.06.94-2.06 2.06-.94-2.06-.94-.94-2.06-.94 2.06-2.06.94zm-11 1L8.5 8.5l.94-2.06 2.06-.94-2.06-.94L8.5 2.5l-.94 2.06-2.06.94zm10 10l.94 2.06.94-2.06 2.06-.94-2.06-.94-.94-2.06-.94 2.06-2.06.94z\"/><path d=\"M17.41 7.96l-1.37-1.37c-.4-.4-.92-.59-1.43-.59-.52 0-1.04.2-1.43.59L10.3 9.45l-7.72 7.72c-.78.78-.78 2.05 0 2.83L4 21.41c.39.39.9.59 1.41.59.51 0 1.02-.2 1.41-.59l7.78-7.78 2.81-2.81c.8-.78.8-2.07 0-2.86zM5.41 20L4 18.59l7.72-7.72 1.47 1.35L5.41 20z\"/>\n",
              "  </svg>\n",
              "      </button>\n",
              "      \n",
              "  <style>\n",
              "    .colab-df-container {\n",
              "      display:flex;\n",
              "      flex-wrap:wrap;\n",
              "      gap: 12px;\n",
              "    }\n",
              "\n",
              "    .colab-df-convert {\n",
              "      background-color: #E8F0FE;\n",
              "      border: none;\n",
              "      border-radius: 50%;\n",
              "      cursor: pointer;\n",
              "      display: none;\n",
              "      fill: #1967D2;\n",
              "      height: 32px;\n",
              "      padding: 0 0 0 0;\n",
              "      width: 32px;\n",
              "    }\n",
              "\n",
              "    .colab-df-convert:hover {\n",
              "      background-color: #E2EBFA;\n",
              "      box-shadow: 0px 1px 2px rgba(60, 64, 67, 0.3), 0px 1px 3px 1px rgba(60, 64, 67, 0.15);\n",
              "      fill: #174EA6;\n",
              "    }\n",
              "\n",
              "    [theme=dark] .colab-df-convert {\n",
              "      background-color: #3B4455;\n",
              "      fill: #D2E3FC;\n",
              "    }\n",
              "\n",
              "    [theme=dark] .colab-df-convert:hover {\n",
              "      background-color: #434B5C;\n",
              "      box-shadow: 0px 1px 3px 1px rgba(0, 0, 0, 0.15);\n",
              "      filter: drop-shadow(0px 1px 2px rgba(0, 0, 0, 0.3));\n",
              "      fill: #FFFFFF;\n",
              "    }\n",
              "  </style>\n",
              "\n",
              "      <script>\n",
              "        const buttonEl =\n",
              "          document.querySelector('#df-306f3c23-8f32-42cd-81ae-3b268bc99d3e button.colab-df-convert');\n",
              "        buttonEl.style.display =\n",
              "          google.colab.kernel.accessAllowed ? 'block' : 'none';\n",
              "\n",
              "        async function convertToInteractive(key) {\n",
              "          const element = document.querySelector('#df-306f3c23-8f32-42cd-81ae-3b268bc99d3e');\n",
              "          const dataTable =\n",
              "            await google.colab.kernel.invokeFunction('convertToInteractive',\n",
              "                                                     [key], {});\n",
              "          if (!dataTable) return;\n",
              "\n",
              "          const docLinkHtml = 'Like what you see? Visit the ' +\n",
              "            '<a target=\"_blank\" href=https://colab.research.google.com/notebooks/data_table.ipynb>data table notebook</a>'\n",
              "            + ' to learn more about interactive tables.';\n",
              "          element.innerHTML = '';\n",
              "          dataTable['output_type'] = 'display_data';\n",
              "          await google.colab.output.renderOutput(dataTable, element);\n",
              "          const docLink = document.createElement('div');\n",
              "          docLink.innerHTML = docLinkHtml;\n",
              "          element.appendChild(docLink);\n",
              "        }\n",
              "      </script>\n",
              "    </div>\n",
              "  </div>\n",
              "  "
            ]
          },
          "metadata": {},
          "execution_count": 2
        }
      ]
    },
    {
      "cell_type": "code",
      "source": [
        "# changing year to int\n",
        "df['Year' ] = df['Year'].astype(int)"
      ],
      "metadata": {
        "id": "wNmbSqvb_YgK"
      },
      "execution_count": 3,
      "outputs": []
    },
    {
      "cell_type": "code",
      "source": [
        "#Rearranging DataFrame\n",
        "plot_df=df.pivot(index='Region', columns='Year', values='Import in tonnes', )\n",
        "plot_df = plot_df.reindex(index = ['Asia & Oceania','Americas','Europe'])\n",
        "plot_df"
      ],
      "metadata": {
        "colab": {
          "base_uri": "https://localhost:8080/",
          "height": 175
        },
        "id": "Y4MDzqaTxsEs",
        "outputId": "688289e8-c7cd-4e5f-e55c-cc4dce4c575f"
      },
      "execution_count": 4,
      "outputs": [
        {
          "output_type": "execute_result",
          "data": {
            "text/plain": [
              "Year                 2015       2016       2017       2018       2019\n",
              "Region                                                               \n",
              "Asia & Oceania   565000.0   592000.0   866000.0   927000.0   924000.0\n",
              "Americas         592000.0   586000.0   651000.0   621000.0   549000.0\n",
              "Europe          1997000.0  2219000.0  2444000.0  2554000.0  2500000.0"
            ],
            "text/html": [
              "\n",
              "  <div id=\"df-acfb4d94-88d4-4335-b48e-08d050822169\">\n",
              "    <div class=\"colab-df-container\">\n",
              "      <div>\n",
              "<style scoped>\n",
              "    .dataframe tbody tr th:only-of-type {\n",
              "        vertical-align: middle;\n",
              "    }\n",
              "\n",
              "    .dataframe tbody tr th {\n",
              "        vertical-align: top;\n",
              "    }\n",
              "\n",
              "    .dataframe thead th {\n",
              "        text-align: right;\n",
              "    }\n",
              "</style>\n",
              "<table border=\"1\" class=\"dataframe\">\n",
              "  <thead>\n",
              "    <tr style=\"text-align: right;\">\n",
              "      <th>Year</th>\n",
              "      <th>2015</th>\n",
              "      <th>2016</th>\n",
              "      <th>2017</th>\n",
              "      <th>2018</th>\n",
              "      <th>2019</th>\n",
              "    </tr>\n",
              "    <tr>\n",
              "      <th>Region</th>\n",
              "      <th></th>\n",
              "      <th></th>\n",
              "      <th></th>\n",
              "      <th></th>\n",
              "      <th></th>\n",
              "    </tr>\n",
              "  </thead>\n",
              "  <tbody>\n",
              "    <tr>\n",
              "      <th>Asia &amp; Oceania</th>\n",
              "      <td>565000.0</td>\n",
              "      <td>592000.0</td>\n",
              "      <td>866000.0</td>\n",
              "      <td>927000.0</td>\n",
              "      <td>924000.0</td>\n",
              "    </tr>\n",
              "    <tr>\n",
              "      <th>Americas</th>\n",
              "      <td>592000.0</td>\n",
              "      <td>586000.0</td>\n",
              "      <td>651000.0</td>\n",
              "      <td>621000.0</td>\n",
              "      <td>549000.0</td>\n",
              "    </tr>\n",
              "    <tr>\n",
              "      <th>Europe</th>\n",
              "      <td>1997000.0</td>\n",
              "      <td>2219000.0</td>\n",
              "      <td>2444000.0</td>\n",
              "      <td>2554000.0</td>\n",
              "      <td>2500000.0</td>\n",
              "    </tr>\n",
              "  </tbody>\n",
              "</table>\n",
              "</div>\n",
              "      <button class=\"colab-df-convert\" onclick=\"convertToInteractive('df-acfb4d94-88d4-4335-b48e-08d050822169')\"\n",
              "              title=\"Convert this dataframe to an interactive table.\"\n",
              "              style=\"display:none;\">\n",
              "        \n",
              "  <svg xmlns=\"http://www.w3.org/2000/svg\" height=\"24px\"viewBox=\"0 0 24 24\"\n",
              "       width=\"24px\">\n",
              "    <path d=\"M0 0h24v24H0V0z\" fill=\"none\"/>\n",
              "    <path d=\"M18.56 5.44l.94 2.06.94-2.06 2.06-.94-2.06-.94-.94-2.06-.94 2.06-2.06.94zm-11 1L8.5 8.5l.94-2.06 2.06-.94-2.06-.94L8.5 2.5l-.94 2.06-2.06.94zm10 10l.94 2.06.94-2.06 2.06-.94-2.06-.94-.94-2.06-.94 2.06-2.06.94z\"/><path d=\"M17.41 7.96l-1.37-1.37c-.4-.4-.92-.59-1.43-.59-.52 0-1.04.2-1.43.59L10.3 9.45l-7.72 7.72c-.78.78-.78 2.05 0 2.83L4 21.41c.39.39.9.59 1.41.59.51 0 1.02-.2 1.41-.59l7.78-7.78 2.81-2.81c.8-.78.8-2.07 0-2.86zM5.41 20L4 18.59l7.72-7.72 1.47 1.35L5.41 20z\"/>\n",
              "  </svg>\n",
              "      </button>\n",
              "      \n",
              "  <style>\n",
              "    .colab-df-container {\n",
              "      display:flex;\n",
              "      flex-wrap:wrap;\n",
              "      gap: 12px;\n",
              "    }\n",
              "\n",
              "    .colab-df-convert {\n",
              "      background-color: #E8F0FE;\n",
              "      border: none;\n",
              "      border-radius: 50%;\n",
              "      cursor: pointer;\n",
              "      display: none;\n",
              "      fill: #1967D2;\n",
              "      height: 32px;\n",
              "      padding: 0 0 0 0;\n",
              "      width: 32px;\n",
              "    }\n",
              "\n",
              "    .colab-df-convert:hover {\n",
              "      background-color: #E2EBFA;\n",
              "      box-shadow: 0px 1px 2px rgba(60, 64, 67, 0.3), 0px 1px 3px 1px rgba(60, 64, 67, 0.15);\n",
              "      fill: #174EA6;\n",
              "    }\n",
              "\n",
              "    [theme=dark] .colab-df-convert {\n",
              "      background-color: #3B4455;\n",
              "      fill: #D2E3FC;\n",
              "    }\n",
              "\n",
              "    [theme=dark] .colab-df-convert:hover {\n",
              "      background-color: #434B5C;\n",
              "      box-shadow: 0px 1px 3px 1px rgba(0, 0, 0, 0.15);\n",
              "      filter: drop-shadow(0px 1px 2px rgba(0, 0, 0, 0.3));\n",
              "      fill: #FFFFFF;\n",
              "    }\n",
              "  </style>\n",
              "\n",
              "      <script>\n",
              "        const buttonEl =\n",
              "          document.querySelector('#df-acfb4d94-88d4-4335-b48e-08d050822169 button.colab-df-convert');\n",
              "        buttonEl.style.display =\n",
              "          google.colab.kernel.accessAllowed ? 'block' : 'none';\n",
              "\n",
              "        async function convertToInteractive(key) {\n",
              "          const element = document.querySelector('#df-acfb4d94-88d4-4335-b48e-08d050822169');\n",
              "          const dataTable =\n",
              "            await google.colab.kernel.invokeFunction('convertToInteractive',\n",
              "                                                     [key], {});\n",
              "          if (!dataTable) return;\n",
              "\n",
              "          const docLinkHtml = 'Like what you see? Visit the ' +\n",
              "            '<a target=\"_blank\" href=https://colab.research.google.com/notebooks/data_table.ipynb>data table notebook</a>'\n",
              "            + ' to learn more about interactive tables.';\n",
              "          element.innerHTML = '';\n",
              "          dataTable['output_type'] = 'display_data';\n",
              "          await google.colab.output.renderOutput(dataTable, element);\n",
              "          const docLink = document.createElement('div');\n",
              "          docLink.innerHTML = docLinkHtml;\n",
              "          element.appendChild(docLink);\n",
              "        }\n",
              "      </script>\n",
              "    </div>\n",
              "  </div>\n",
              "  "
            ]
          },
          "metadata": {},
          "execution_count": 4
        }
      ]
    },
    {
      "cell_type": "code",
      "source": [
        "## Using specific colors for each year\n",
        "color_map = {2015:'#027bc6', 2016:'#ffb610', 2017:'#3AB60c', 2018:'#59B1DF', 2019:'#CA005D'}\n",
        "colors = [color_map[c] for c in plot_df.columns]\n",
        "colors"
      ],
      "metadata": {
        "colab": {
          "base_uri": "https://localhost:8080/"
        },
        "id": "H-lyZG4nBD6v",
        "outputId": "24bcb0d2-c363-4ebb-a731-aee4a351f5bd"
      },
      "execution_count": 5,
      "outputs": [
        {
          "output_type": "execute_result",
          "data": {
            "text/plain": [
              "['#027bc6', '#ffb610', '#3AB60c', '#59B1DF', '#CA005D']"
            ]
          },
          "metadata": {},
          "execution_count": 5
        }
      ]
    },
    {
      "cell_type": "code",
      "source": [
        "from matplotlib.ticker import FuncFormatter\n",
        "from matplotlib.lines import Line2D\n",
        "def thousands(x, pos):\n",
        "    'The two args are the value and tick position'\n",
        "    return '%1.1fk' % (x * 1e-6)\n",
        "\n",
        "\n",
        "formatter = FuncFormatter(thousands)\n",
        "\n",
        "plt.style.use('seaborn-white')\n",
        "plot_df.plot(kind='bar', figsize=(18,5), color=colors,edgecolor='white',linewidth=5,  width=.8,).yaxis.set_major_formatter(formatter)\n",
        "plt.ylim(top=3000000,bottom=0)\n",
        "plt.suptitle('Global import of cocoa bean region',fontfamily='serif',\n",
        "             fontsize='xx-large',\n",
        "             fontweight='semibold')\n",
        "plt.title('in 1,000 tonnes')\n",
        "plt.xticks(rotation = 360);\n",
        "plt.grid(axis = 'y',color='#ECEDEC')\n",
        "line1 = Line2D([], [], color=\"white\", marker='o', markerfacecolor=colors[0])\n",
        "line2 = Line2D([], [], color=\"white\", marker='o', markerfacecolor=colors[1])\n",
        "line3 = Line2D([], [], color=\"white\", marker='o', markerfacecolor=colors[2])\n",
        "line4 = Line2D([], [], color=\"white\", marker='o', markerfacecolor=colors[3])\n",
        "line5 = Line2D([], [], color=\"white\", marker='o', markerfacecolor=colors[4])\n",
        "legnd = plt.legend(handles =[line1,line2,line3,line4,line5],labels=['2015','2016','2017','2018','2019'],loc=(0.23,-0.2),frameon=False,ncol=5,fontsize=15, handletextpad=0.001);\n",
        "#change the marker size manually for both lines\n",
        "legnd.legendHandles[0]._legmarker.set_markersize(15)\n",
        "legnd.legendHandles[1]._legmarker.set_markersize(15)\n",
        "legnd.legendHandles[2]._legmarker.set_markersize(15)\n",
        "legnd.legendHandles[3]._legmarker.set_markersize(15)\n",
        "legnd.legendHandles[4]._legmarker.set_markersize(15)\n",
        "\n",
        "\n",
        "\n",
        "\n",
        "\n"
      ],
      "metadata": {
        "colab": {
          "base_uri": "https://localhost:8080/",
          "height": 393
        },
        "id": "_d82LeNo_Ji5",
        "outputId": "826bd4cf-cabf-449b-98c8-efffec8350f1"
      },
      "execution_count": 6,
      "outputs": [
        {
          "output_type": "display_data",
          "data": {
            "text/plain": [
              "<Figure size 1296x360 with 1 Axes>"
            ],
            "image/png": "[encoded data removed]"
          },
          "metadata": {}
        }
      ]
    }
  ]
}